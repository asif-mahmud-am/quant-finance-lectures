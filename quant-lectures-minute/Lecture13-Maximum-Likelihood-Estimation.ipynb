{
 "cells": [
  {
   "cell_type": "markdown",
   "metadata": {},
   "source": [
    "<img alt=\"QuantRocket logo\" src=\"https://www.quantrocket.com/assets/img/notebook-header-logo.png\">\n",
    "\n",
    "© Copyright Quantopian Inc.<br>\n",
    "© Modifications Copyright QuantRocket LLC<br>\n",
    "Licensed under the [Creative Commons Attribution 4.0](https://creativecommons.org/licenses/by/4.0/legalcode).\n",
    "\n",
    "<a href=\"https://www.quantrocket.com/disclaimer/\">Disclaimer</a>"
   ]
  },
  {
   "cell_type": "markdown",
   "metadata": {},
   "source": [
    "# Maximum Likelihood Estimates (MLEs)\n",
    "\n",
    "By Delaney Granizo-Mackenzie and Andrei Kirilenko developed as part of the Masters of Finance curriculum at MIT Sloan.\n"
   ]
  },
  {
   "cell_type": "markdown",
   "metadata": {},
   "source": [
    "In this tutorial notebook, we'll do the following things:\n",
    "1. Compute the MLE for a normal distribution.\n",
    "2. Compute the MLE for an exponential distribution.\n",
    "3. Fit a normal distribution to asset returns using MLE."
   ]
  },
  {
   "cell_type": "markdown",
   "metadata": {},
   "source": [
    "First we need to import some libraries"
   ]
  },
  {
   "cell_type": "code",
   "execution_count": 1,
   "metadata": {},
   "outputs": [],
   "source": [
    "import math\n",
    "import matplotlib.pyplot as plt\n",
    "import numpy as np\n",
    "import scipy\n",
    "import scipy.stats"
   ]
  },
  {
   "cell_type": "markdown",
   "metadata": {},
   "source": [
    "## Normal Distribution\n",
    "We'll start by sampling some data from a normal distribution."
   ]
  },
  {
   "cell_type": "code",
   "execution_count": 2,
   "metadata": {
    "jupyter": {
     "outputs_hidden": false
    }
   },
   "outputs": [],
   "source": [
    "TRUE_MEAN = 40\n",
    "TRUE_STD = 10\n",
    "X = np.random.normal(TRUE_MEAN, TRUE_STD, 1000)"
   ]
  },
  {
   "cell_type": "markdown",
   "metadata": {},
   "source": [
    "Now we'll define functions that, given our data, will compute the MLE for the $\\mu$ and $\\sigma$ parameters of the normal distribution.\n",
    "\n",
    "Recall that\n",
    "\n",
    "$$\\hat\\mu = \\frac{1}{T}\\sum_{t=1}^{T} x_t$$\n",
    "\n",
    "$$\\hat\\sigma = \\sqrt{\\frac{1}{T}\\sum_{t=1}^{T}{(x_t - \\hat\\mu)^2}}$$"
   ]
  },
  {
   "cell_type": "code",
   "execution_count": 3,
   "metadata": {
    "jupyter": {
     "outputs_hidden": false
    }
   },
   "outputs": [],
   "source": [
    "def normal_mu_MLE(X):\n",
    "    # Get the number of observations\n",
    "    T = len(X)\n",
    "    # Sum the observations\n",
    "    s = sum(X)\n",
    "    return 1.0/T * s\n",
    "\n",
    "def normal_sigma_MLE(X):\n",
    "    T = len(X)\n",
    "    # Get the mu MLE\n",
    "    mu = normal_mu_MLE(X)\n",
    "    # Sum the square of the differences\n",
    "    s = sum( np.power((X - mu), 2) )\n",
    "    # Compute sigma^2\n",
    "    sigma_squared = 1.0/T * s\n",
    "    return math.sqrt(sigma_squared)"
   ]
  },
  {
   "cell_type": "markdown",
   "metadata": {},
   "source": [
    "Now let's try our functions out on our sample data and see how they compare to the built-in `np.mean` and `np.std`"
   ]
  },
  {
   "cell_type": "code",
   "execution_count": 4,
   "metadata": {
    "jupyter": {
     "outputs_hidden": false
    }
   },
   "outputs": [
    {
     "name": "stdout",
     "output_type": "stream",
     "text": [
      "Mean Estimation\n",
      "40.26753711041593\n",
      "40.267537110415915\n",
      "Standard Deviation Estimation\n",
      "10.194649363784599\n",
      "10.194649363784603\n"
     ]
    }
   ],
   "source": [
    "print(\"Mean Estimation\")\n",
    "print(normal_mu_MLE(X))\n",
    "print(np.mean(X))\n",
    "print(\"Standard Deviation Estimation\")\n",
    "print(normal_sigma_MLE(X))\n",
    "print(np.std(X))"
   ]
  },
  {
   "cell_type": "markdown",
   "metadata": {},
   "source": [
    "Now let's estimate both parameters at once with scipy's built in `fit()` function."
   ]
  },
  {
   "cell_type": "code",
   "execution_count": 5,
   "metadata": {
    "jupyter": {
     "outputs_hidden": false
    }
   },
   "outputs": [
    {
     "name": "stdout",
     "output_type": "stream",
     "text": [
      "mu estimate: 40.267537110415915\n",
      "std estimate: 10.194649363784603\n"
     ]
    }
   ],
   "source": [
    "mu, std = scipy.stats.norm.fit(X)\n",
    "print(\"mu estimate:\",  str(mu))\n",
    "print(\"std estimate:\", str(std))"
   ]
  },
  {
   "cell_type": "markdown",
   "metadata": {},
   "source": [
    "Now let's plot the distribution PDF along with the data to see how well it fits. We can do that by accessing the pdf provided in `scipy.stats.norm.pdf`."
   ]
  },
  {
   "cell_type": "code",
   "execution_count": 6,
   "metadata": {
    "jupyter": {
     "outputs_hidden": false
    }
   },
   "outputs": [
    {
     "data": {
      "image/png": "[encoded data removed]",
      "text/plain": [
       "<Figure size 432x288 with 1 Axes>"
      ]
     },
     "metadata": {
      "needs_background": "light"
     },
     "output_type": "display_data"
    }
   ],
   "source": [
    "pdf = scipy.stats.norm.pdf\n",
    "# We would like to plot our data along an x-axis ranging from 0-80 with 80 intervals\n",
    "# (increments of 1)\n",
    "x = np.linspace(0, 80, 80)\n",
    "plt.hist(X, bins=x, density='true')\n",
    "plt.plot(pdf(x, loc=mu, scale=std))\n",
    "plt.xlabel('Value')\n",
    "plt.ylabel('Observed Frequency')\n",
    "plt.legend(['Fitted Distribution PDF', 'Observed Data', ]);"
   ]
  },
  {
   "cell_type": "markdown",
   "metadata": {},
   "source": [
    "## Exponential Distribution\n",
    "Let's do the same thing, but for the exponential distribution. We'll start by sampling some data."
   ]
  },
  {
   "cell_type": "code",
   "execution_count": 7,
   "metadata": {},
   "outputs": [],
   "source": [
    "TRUE_LAMBDA = 5\n",
    "X = np.random.exponential(TRUE_LAMBDA, 1000)"
   ]
  },
  {
   "cell_type": "markdown",
   "metadata": {},
   "source": [
    "`numpy` defines the exponential distribution as\n",
    "$$\\frac{1}{\\lambda}e^{-\\frac{x}{\\lambda}}$$\n",
    "\n",
    "So we need to invert the MLE from the lecture notes. There it is\n",
    "\n",
    "$$\\hat\\lambda = \\frac{T}{\\sum_{t=1}^{T} x_t}$$\n",
    "\n",
    "Here it's just the reciprocal, so\n",
    "\n",
    "$$\\hat\\lambda = \\frac{\\sum_{t=1}^{T} x_t}{T}$$"
   ]
  },
  {
   "cell_type": "code",
   "execution_count": 8,
   "metadata": {
    "jupyter": {
     "outputs_hidden": false
    }
   },
   "outputs": [],
   "source": [
    "def exp_lamda_MLE(X):\n",
    "    T = len(X)\n",
    "    s = sum(X)\n",
    "    return s/T"
   ]
  },
  {
   "cell_type": "code",
   "execution_count": 9,
   "metadata": {
    "jupyter": {
     "outputs_hidden": false
    }
   },
   "outputs": [
    {
     "name": "stdout",
     "output_type": "stream",
     "text": [
      "lambda estimate: 5.037580559589023\n"
     ]
    }
   ],
   "source": [
    "print(\"lambda estimate:\", str(exp_lamda_MLE(X)))"
   ]
  },
  {
   "cell_type": "code",
   "execution_count": 10,
   "metadata": {
    "jupyter": {
     "outputs_hidden": false
    }
   },
   "outputs": [],
   "source": [
    "# The scipy version of the exponential distribution has a location parameter\n",
    "# that can skew the distribution. We ignore this by fixing the location\n",
    "# parameter to 0 with floc=0\n",
    "_, l = scipy.stats.expon.fit(X, floc=0)"
   ]
  },
  {
   "cell_type": "code",
   "execution_count": 11,
   "metadata": {
    "jupyter": {
     "outputs_hidden": false
    }
   },
   "outputs": [
    {
     "data": {
      "image/png": "[encoded data removed]",
      "text/plain": [
       "<Figure size 432x288 with 1 Axes>"
      ]
     },
     "metadata": {
      "needs_background": "light"
     },
     "output_type": "display_data"
    }
   ],
   "source": [
    "pdf = scipy.stats.expon.pdf\n",
    "x = range(0, 80)\n",
    "plt.hist(X, bins=x, density='true')\n",
    "plt.plot(pdf(x, scale=l))\n",
    "plt.xlabel('Value')\n",
    "plt.ylabel('Observed Frequency')\n",
    "plt.legend(['Fitted Distribution PDF', 'Observed Data', ]);"
   ]
  },
  {
   "cell_type": "markdown",
   "metadata": {},
   "source": [
    "## MLE for Asset Returns\n",
    "\n",
    "Now we'll fetch some real returns and try to fit a normal distribution to them using MLE."
   ]
  },
  {
   "cell_type": "code",
   "execution_count": 16,
   "metadata": {},
   "outputs": [],
   "source": [
    "import sys\n",
    "import os\n",
    "root_dir = os.getcwd().replace('/quant-lectures-minute','')\n",
    "sys.path.insert(1, root_dir)\n",
    "from utils import *"
   ]
  },
  {
   "cell_type": "code",
   "execution_count": 13,
   "metadata": {},
   "outputs": [],
   "source": [
    "from zipline.utils.run_algo import load_extensions\n",
    "from zipline.data import bundles\n",
    "from zipline.data.data_portal import DataPortal\n",
    "from zipline.utils.calendar_utils import get_calendar\n",
    "import os\n",
    "load_extensions(\n",
    "    default=True,\n",
    "    extensions=[],\n",
    "    strict=True,\n",
    "    environ=os.environ,\n",
    ")"
   ]
  },
  {
   "cell_type": "code",
   "execution_count": 17,
   "metadata": {},
   "outputs": [],
   "source": [
    "start = '2022-10-10'\n",
    "end = '2022-10-25'\n",
    "\n",
    "bundle = 'binance'\n",
    "calendar_name = '24/7'\n",
    "calendar = get_calendar(calendar_name)\n",
    "bundle_data = bundles.load(bundle)\n",
    "sids = bundle_data.asset_finder.sids\n",
    "assets = bundle_data.asset_finder.retrieve_all(sids)\n",
    "coin_list = [coin.symbol for coin in assets]\n",
    "\n",
    "db = minuteBars(coins=coin_list, bundle=bundle, calendar=calendar)"
   ]
  },
  {
   "cell_type": "code",
   "execution_count": 26,
   "metadata": {},
   "outputs": [],
   "source": [
    "# start = '2022-01-01'\n",
    "# end = '2022-08-01'\n",
    "value_list = ['close']\n",
    "data = db.ohlcvData(start=start, end=end, value_list=value_list)\n",
    "price = db.avgPriceData(start=start, end=end)\n",
    "periods = 1\n",
    "pct_ret = db.pctReturn(start=start, end=end, periods=periods).fillna(0)\n",
    "# data.head()"
   ]
  },
  {
   "cell_type": "code",
   "execution_count": 27,
   "metadata": {},
   "outputs": [
    {
     "data": {
      "text/plain": [
       "(21601, 116)"
      ]
     },
     "execution_count": 27,
     "metadata": {},
     "output_type": "execute_result"
    }
   ],
   "source": [
    "price.shape"
   ]
  },
  {
   "cell_type": "markdown",
   "metadata": {},
   "source": [
    "Let's use `scipy`'s fit function to get the $\\mu$ and $\\sigma$ MLEs."
   ]
  },
  {
   "cell_type": "markdown",
   "metadata": {},
   "source": [
    "---\n",
    "\n",
    "*This presentation is for informational purposes only and does not constitute an offer to sell, a solicitation to buy, or a recommendation for any security; nor does it constitute an offer to provide investment advisory or other services by Quantopian, Inc. (\"Quantopian\") or QuantRocket LLC (\"QuantRocket\"). Nothing contained herein constitutes investment advice or offers any opinion with respect to the suitability of any security, and any views expressed herein should not be taken as advice to buy, sell, or hold any security or as an endorsement of any security or company.  In preparing the information contained herein, neither Quantopian nor QuantRocket has taken into account the investment needs, objectives, and financial circumstances of any particular investor. Any views expressed and data illustrated herein were prepared based upon information believed to be reliable at the time of publication. Neither Quantopian nor QuantRocket makes any guarantees as to their accuracy or completeness. All information is subject to change and may quickly become unreliable for various reasons, including changes in market conditions or economic circumstances.*"
   ]
  }
 ],
 "metadata": {
  "kernelspec": {
   "display_name": "Python 3 (ipykernel)",
   "language": "python",
   "name": "python3"
  },
  "language_info": {
   "codemirror_mode": {
    "name": "ipython",
    "version": 3
   },
   "file_extension": ".py",
   "mimetype": "text/x-python",
   "name": "python",
   "nbconvert_exporter": "python",
   "pygments_lexer": "ipython3",
   "version": "3.9.13"
  }
 },
 "nbformat": 4,
 "nbformat_minor": 4
}
