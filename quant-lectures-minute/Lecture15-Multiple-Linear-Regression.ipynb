{
 "cells": [
  {
   "cell_type": "markdown",
   "metadata": {},
   "source": [
    "<img alt=\"QuantRocket logo\" src=\"https://www.quantrocket.com/assets/img/notebook-header-logo.png\">\n",
    "\n",
    "© Copyright Quantopian Inc.<br>\n",
    "© Modifications Copyright QuantRocket LLC<br>\n",
    "Licensed under the [Creative Commons Attribution 4.0](https://creativecommons.org/licenses/by/4.0/legalcode).\n",
    "\n",
    "<a href=\"https://www.quantrocket.com/disclaimer/\">Disclaimer</a>"
   ]
  },
  {
   "cell_type": "markdown",
   "metadata": {},
   "source": [
    "# Multiple Linear Regression\n",
    "\n",
    "By Evgenia \"Jenny\" Nitishinskaya, Maxwell Margenot, Delaney Granizo-Mackenzie, and Gilbert Wasserman.\n"
   ]
  },
  {
   "cell_type": "code",
   "execution_count": 1,
   "metadata": {
    "jupyter": {
     "outputs_hidden": false
    }
   },
   "outputs": [],
   "source": [
    "import numpy as np\n",
    "import pandas as pd\n",
    "import statsmodels.api as sm\n",
    "# If the observations are in a dataframe, you can use statsmodels.formulas.api to do the regression instead\n",
    "from statsmodels import regression\n",
    "import matplotlib.pyplot as plt"
   ]
  },
  {
   "cell_type": "markdown",
   "metadata": {},
   "source": [
    "\n",
    "Multiple linear regression generalizes linear regression, allowing the dependent variable to be a linear function of multiple independent variables. As before, we assume that the variable $Y$ is a linear function of $X_1,\\ldots, X_k$:\n",
    "\n",
    "$$ Y_i = \\beta_0 + \\beta_1 X_{1i} + \\ldots + \\beta_k X_{ki} + \\epsilon_i $$\n",
    "\n",
    "Often in finance the form will be written as follows, but it is just the variable name that changes and otherwise the model is identical.\n",
    "\n",
    "$$ Y_i = \\alpha + \\beta_1 X_{1i} + \\ldots + \\beta_k X_{ki} + \\epsilon_i $$\n",
    "\n",
    "For observations $i = 1,2,\\ldots, n$. In order to find the plane (or hyperplane) of best fit, we will use the method of ordinary least-squares (OLS), which seeks to minimize the squared error between predictions and observations, $\\sum_{i=1}^n \\epsilon_i^2$. The square makes positive and negative errors equally bad, and magnifies large errors. It also makes the closed form math behind linear regression nice, but we won't go into that now. For an example of squared error, see the following."
   ]
  },
  {
   "cell_type": "markdown",
   "metadata": {},
   "source": [
    "Let's say Y is our actual data, and Y_hat is the predictions made by linear regression."
   ]
  },
  {
   "cell_type": "code",
   "execution_count": 2,
   "metadata": {
    "jupyter": {
     "outputs_hidden": false
    }
   },
   "outputs": [
    {
     "name": "stdout",
     "output_type": "stream",
     "text": [
      "Error [ 0.  -0.5  1.  -1.  -3. ]\n",
      "Squared Error [0.   0.25 1.   1.   9.  ]\n",
      "Sum Squared Error 11.25\n"
     ]
    }
   ],
   "source": [
    "Y = np.array([1, 3.5, 4, 8, 12])\n",
    "Y_hat = np.array([1, 3, 5, 7, 9])\n",
    "\n",
    "print('Error ' + str(Y_hat - Y))\n",
    "\n",
    "# Compute squared error\n",
    "SE = (Y_hat - Y) ** 2\n",
    "\n",
    "print('Squared Error ' + str(SE))\n",
    "print('Sum Squared Error ' + str(np.sum(SE)))"
   ]
  },
  {
   "cell_type": "markdown",
   "metadata": {},
   "source": [
    "Once we have used this method to determine the coefficients of the regression, we will be able to use new observed values of $X$ to predict values of $Y$. \n",
    "\n",
    "Each coefficient $\\beta_j$ tells us how much $Y_i$ will change if we change $X_j$ by one while holding all of the other dependent variables constant. This lets us separate out the contributions of different effects. This is assuming the linear model is the correct one.\n",
    "\n",
    "We start by artificially constructing a $Y$, $X_1$, and $X_2$ in which we know the precise relationship."
   ]
  },
  {
   "cell_type": "code",
   "execution_count": 3,
   "metadata": {
    "jupyter": {
     "outputs_hidden": false
    }
   },
   "outputs": [
    {
     "data": {
      "image/png": "[encoded data removed]",
      "text/plain": [
       "<Figure size 432x288 with 1 Axes>"
      ]
     },
     "metadata": {
      "needs_background": "light"
     },
     "output_type": "display_data"
    }
   ],
   "source": [
    "# Construct a simple linear curve of 1, 2, 3, ...\n",
    "X1 = np.arange(100)\n",
    "\n",
    "# Make a parabola and add X1 to it, this is X2\n",
    "X2 = np.array([i ** 2 for i in range(100)]) + X1\n",
    "\n",
    "# This is our real Y, constructed using a linear combination of X1 and X2\n",
    "Y = X1 + X2\n",
    "\n",
    "plt.plot(X1, label='X1')\n",
    "plt.plot(X2, label='X2')\n",
    "plt.plot(Y, label='Y')\n",
    "plt.legend();"
   ]
  },
  {
   "cell_type": "markdown",
   "metadata": {},
   "source": [
    "We can use the same function from `statsmodels` as we did for a single linear regression lecture."
   ]
  },
  {
   "cell_type": "code",
   "execution_count": 4,
   "metadata": {
    "jupyter": {
     "outputs_hidden": false
    },
    "scrolled": true
   },
   "outputs": [
    {
     "name": "stdout",
     "output_type": "stream",
     "text": [
      "Beta_0: 1.6200374375330284e-12\n",
      "Beta_1: 1.000000000000366\n",
      "Beta_2: 0.9999999999999949\n"
     ]
    }
   ],
   "source": [
    "# Use column_stack to combine independent variables, then add a column of ones so we can fit an intercept\n",
    "X = sm.add_constant(np.column_stack((X1, X2)))\n",
    "\n",
    "# Run the model\n",
    "results = regression.linear_model.OLS(Y, X).fit()\n",
    "\n",
    "print('Beta_0:', results.params[0])\n",
    "print('Beta_1:', results.params[1])\n",
    "print('Beta_2:', results.params[2])"
   ]
  },
  {
   "cell_type": "markdown",
   "metadata": {},
   "source": [
    "The same care must be taken with these results as with partial derivatives. The formula for $Y$ is ostensibly \n",
    "\n",
    "$$X_1 + X_2 = X_1 + X^2 + X_1 = 2 X_1 + X^2$$\n",
    "\n",
    "Or $2X_1$ plus a parabola.\n",
    "\n",
    "However, the coefficient of $X_1$ is 1. That is because $Y$ changes by 1 if we change $X_1$ by 1 <i>while holding $X_2$ constant</i>. Multiple linear regression separates out contributions from different variables.\n",
    "\n",
    "Similarly, running a linear regression on two securities might give a high $\\beta$. However, if we bring in a third security (like SPY, which tracks the S&P 500) as an independent variable, we may find that the correlation between the first two securities is almost entirely due to them both being correlated with the S&P 500. This is useful because the S&P 500 may then be a more reliable predictor of both securities than they were of each other. This method allows us to better gauge the significance between the two securities and prevent confounding the two variables."
   ]
  },
  {
   "cell_type": "code",
   "execution_count": 5,
   "metadata": {},
   "outputs": [],
   "source": [
    "import sys\n",
    "import os\n",
    "root_dir = os.getcwd().replace('/quant-lectures-minute','')\n",
    "sys.path.insert(1, root_dir)\n",
    "from utils import *"
   ]
  },
  {
   "cell_type": "code",
   "execution_count": 6,
   "metadata": {},
   "outputs": [],
   "source": [
    "from zipline.utils.run_algo import load_extensions\n",
    "from zipline.data import bundles\n",
    "from zipline.data.data_portal import DataPortal\n",
    "from zipline.utils.calendar_utils import get_calendar\n",
    "import os\n",
    "load_extensions(\n",
    "    default=True,\n",
    "    extensions=[],\n",
    "    strict=True,\n",
    "    environ=os.environ,\n",
    ")"
   ]
  },
  {
   "cell_type": "code",
   "execution_count": 7,
   "metadata": {},
   "outputs": [],
   "source": [
    "start = '2022-10-10'\n",
    "end = '2022-10-25'\n",
    "\n",
    "bundle = 'binance'\n",
    "calendar_name = '24/7'\n",
    "calendar = get_calendar(calendar_name)\n",
    "bundle_data = bundles.load(bundle)\n",
    "sids = bundle_data.asset_finder.sids\n",
    "assets = bundle_data.asset_finder.retrieve_all(sids)\n",
    "coin_list = [coin.symbol for coin in assets]\n",
    "\n",
    "db = minuteBars(coins=coin_list, bundle=bundle, calendar=calendar)"
   ]
  },
  {
   "cell_type": "code",
   "execution_count": 8,
   "metadata": {},
   "outputs": [],
   "source": [
    "# start = '2022-01-01'\n",
    "# end = '2022-08-01'\n",
    "value_list = ['close']\n",
    "data = db.ohlcvData(start=start, end=end, value_list=value_list)\n",
    "price = db.avgPriceData(start=start, end=end)\n",
    "periods = 1\n",
    "pct_ret = db.pctReturn(start=start, end=end, periods=periods).fillna(0)\n",
    "# data.head()"
   ]
  },
  {
   "cell_type": "code",
   "execution_count": 9,
   "metadata": {},
   "outputs": [
    {
     "data": {
      "text/html": [
       "<div>\n",
       "<style scoped>\n",
       "    .dataframe tbody tr th:only-of-type {\n",
       "        vertical-align: middle;\n",
       "    }\n",
       "\n",
       "    .dataframe tbody tr th {\n",
       "        vertical-align: top;\n",
       "    }\n",
       "\n",
       "    .dataframe thead tr th {\n",
       "        text-align: left;\n",
       "    }\n",
       "</style>\n",
       "<table border=\"1\" class=\"dataframe\">\n",
       "  <thead>\n",
       "    <tr>\n",
       "      <th></th>\n",
       "      <th colspan=\"21\" halign=\"left\">close</th>\n",
       "    </tr>\n",
       "    <tr>\n",
       "      <th></th>\n",
       "      <th>1000SHIBUSDT</th>\n",
       "      <th>1000XECUSDT</th>\n",
       "      <th>1INCHUSDT</th>\n",
       "      <th>AAVEUSDT</th>\n",
       "      <th>ALGOUSDT</th>\n",
       "      <th>ALICEUSDT</th>\n",
       "      <th>ALPHAUSDT</th>\n",
       "      <th>ANKRUSDT</th>\n",
       "      <th>ANTUSDT</th>\n",
       "      <th>APEUSDT</th>\n",
       "      <th>...</th>\n",
       "      <th>UNIUSDT</th>\n",
       "      <th>VETUSDT</th>\n",
       "      <th>WAVESUSDT</th>\n",
       "      <th>WOOUSDT</th>\n",
       "      <th>XEMUSDT</th>\n",
       "      <th>XLMUSDT</th>\n",
       "      <th>XRPUSDT</th>\n",
       "      <th>XTZUSDT</th>\n",
       "      <th>YFIUSDT</th>\n",
       "      <th>ZRXUSDT</th>\n",
       "    </tr>\n",
       "  </thead>\n",
       "  <tbody>\n",
       "    <tr>\n",
       "      <th>2022-10-10 00:00:00+00:00</th>\n",
       "      <td>0.011</td>\n",
       "      <td>0.04</td>\n",
       "      <td>0.605</td>\n",
       "      <td>75.92</td>\n",
       "      <td>0.335</td>\n",
       "      <td>1.692</td>\n",
       "      <td>0.501</td>\n",
       "      <td>0.031</td>\n",
       "      <td>1.6</td>\n",
       "      <td>5.216</td>\n",
       "      <td>...</td>\n",
       "      <td>6.540</td>\n",
       "      <td>0.023</td>\n",
       "      <td>3.819</td>\n",
       "      <td>0.148</td>\n",
       "      <td>0.102</td>\n",
       "      <td>0.128</td>\n",
       "      <td>0.536</td>\n",
       "      <td>1.398</td>\n",
       "      <td>8079.5</td>\n",
       "      <td>0.274</td>\n",
       "    </tr>\n",
       "    <tr>\n",
       "      <th>2022-10-10 00:01:00+00:00</th>\n",
       "      <td>0.011</td>\n",
       "      <td>0.04</td>\n",
       "      <td>0.602</td>\n",
       "      <td>75.09</td>\n",
       "      <td>0.334</td>\n",
       "      <td>1.692</td>\n",
       "      <td>0.501</td>\n",
       "      <td>0.031</td>\n",
       "      <td>1.6</td>\n",
       "      <td>5.216</td>\n",
       "      <td>...</td>\n",
       "      <td>6.000</td>\n",
       "      <td>0.023</td>\n",
       "      <td>3.819</td>\n",
       "      <td>0.148</td>\n",
       "      <td>0.102</td>\n",
       "      <td>0.128</td>\n",
       "      <td>0.536</td>\n",
       "      <td>1.397</td>\n",
       "      <td>8079.5</td>\n",
       "      <td>0.274</td>\n",
       "    </tr>\n",
       "    <tr>\n",
       "      <th>2022-10-10 00:02:00+00:00</th>\n",
       "      <td>0.011</td>\n",
       "      <td>0.04</td>\n",
       "      <td>0.605</td>\n",
       "      <td>74.90</td>\n",
       "      <td>0.334</td>\n",
       "      <td>1.760</td>\n",
       "      <td>0.501</td>\n",
       "      <td>0.031</td>\n",
       "      <td>1.6</td>\n",
       "      <td>5.216</td>\n",
       "      <td>...</td>\n",
       "      <td>6.563</td>\n",
       "      <td>0.023</td>\n",
       "      <td>3.784</td>\n",
       "      <td>0.148</td>\n",
       "      <td>0.102</td>\n",
       "      <td>0.128</td>\n",
       "      <td>0.536</td>\n",
       "      <td>1.383</td>\n",
       "      <td>8080.0</td>\n",
       "      <td>0.274</td>\n",
       "    </tr>\n",
       "    <tr>\n",
       "      <th>2022-10-10 00:03:00+00:00</th>\n",
       "      <td>0.011</td>\n",
       "      <td>0.04</td>\n",
       "      <td>0.604</td>\n",
       "      <td>75.00</td>\n",
       "      <td>0.334</td>\n",
       "      <td>1.779</td>\n",
       "      <td>0.501</td>\n",
       "      <td>0.031</td>\n",
       "      <td>1.6</td>\n",
       "      <td>5.216</td>\n",
       "      <td>...</td>\n",
       "      <td>6.564</td>\n",
       "      <td>0.023</td>\n",
       "      <td>3.797</td>\n",
       "      <td>0.148</td>\n",
       "      <td>0.102</td>\n",
       "      <td>0.128</td>\n",
       "      <td>0.539</td>\n",
       "      <td>1.397</td>\n",
       "      <td>8078.5</td>\n",
       "      <td>0.274</td>\n",
       "    </tr>\n",
       "    <tr>\n",
       "      <th>2022-10-10 00:04:00+00:00</th>\n",
       "      <td>0.011</td>\n",
       "      <td>0.04</td>\n",
       "      <td>0.600</td>\n",
       "      <td>75.20</td>\n",
       "      <td>0.333</td>\n",
       "      <td>1.761</td>\n",
       "      <td>0.501</td>\n",
       "      <td>0.031</td>\n",
       "      <td>1.6</td>\n",
       "      <td>5.216</td>\n",
       "      <td>...</td>\n",
       "      <td>6.544</td>\n",
       "      <td>0.023</td>\n",
       "      <td>3.833</td>\n",
       "      <td>0.148</td>\n",
       "      <td>0.102</td>\n",
       "      <td>0.129</td>\n",
       "      <td>0.539</td>\n",
       "      <td>1.459</td>\n",
       "      <td>8077.0</td>\n",
       "      <td>0.274</td>\n",
       "    </tr>\n",
       "  </tbody>\n",
       "</table>\n",
       "<p>5 rows × 116 columns</p>\n",
       "</div>"
      ],
      "text/plain": [
       "                                 close                                 \\\n",
       "                          1000SHIBUSDT 1000XECUSDT 1INCHUSDT AAVEUSDT   \n",
       "2022-10-10 00:00:00+00:00        0.011        0.04     0.605    75.92   \n",
       "2022-10-10 00:01:00+00:00        0.011        0.04     0.602    75.09   \n",
       "2022-10-10 00:02:00+00:00        0.011        0.04     0.605    74.90   \n",
       "2022-10-10 00:03:00+00:00        0.011        0.04     0.604    75.00   \n",
       "2022-10-10 00:04:00+00:00        0.011        0.04     0.600    75.20   \n",
       "\n",
       "                                                                         \\\n",
       "                          ALGOUSDT ALICEUSDT ALPHAUSDT ANKRUSDT ANTUSDT   \n",
       "2022-10-10 00:00:00+00:00    0.335     1.692     0.501    0.031     1.6   \n",
       "2022-10-10 00:01:00+00:00    0.334     1.692     0.501    0.031     1.6   \n",
       "2022-10-10 00:02:00+00:00    0.334     1.760     0.501    0.031     1.6   \n",
       "2022-10-10 00:03:00+00:00    0.334     1.779     0.501    0.031     1.6   \n",
       "2022-10-10 00:04:00+00:00    0.333     1.761     0.501    0.031     1.6   \n",
       "\n",
       "                                   ...                                    \\\n",
       "                          APEUSDT  ... UNIUSDT VETUSDT WAVESUSDT WOOUSDT   \n",
       "2022-10-10 00:00:00+00:00   5.216  ...   6.540   0.023     3.819   0.148   \n",
       "2022-10-10 00:01:00+00:00   5.216  ...   6.000   0.023     3.819   0.148   \n",
       "2022-10-10 00:02:00+00:00   5.216  ...   6.563   0.023     3.784   0.148   \n",
       "2022-10-10 00:03:00+00:00   5.216  ...   6.564   0.023     3.797   0.148   \n",
       "2022-10-10 00:04:00+00:00   5.216  ...   6.544   0.023     3.833   0.148   \n",
       "\n",
       "                                                                           \n",
       "                          XEMUSDT XLMUSDT XRPUSDT XTZUSDT YFIUSDT ZRXUSDT  \n",
       "2022-10-10 00:00:00+00:00   0.102   0.128   0.536   1.398  8079.5   0.274  \n",
       "2022-10-10 00:01:00+00:00   0.102   0.128   0.536   1.397  8079.5   0.274  \n",
       "2022-10-10 00:02:00+00:00   0.102   0.128   0.536   1.383  8080.0   0.274  \n",
       "2022-10-10 00:03:00+00:00   0.102   0.128   0.539   1.397  8078.5   0.274  \n",
       "2022-10-10 00:04:00+00:00   0.102   0.129   0.539   1.459  8077.0   0.274  \n",
       "\n",
       "[5 rows x 116 columns]"
      ]
     },
     "execution_count": 9,
     "metadata": {},
     "output_type": "execute_result"
    }
   ],
   "source": [
    "data.head()"
   ]
  },
  {
   "cell_type": "code",
   "execution_count": 17,
   "metadata": {
    "jupyter": {
     "outputs_hidden": false
    }
   },
   "outputs": [
    {
     "name": "stdout",
     "output_type": "stream",
     "text": [
      "SLR beta of asset2: 2.381214620015565\n"
     ]
    }
   ],
   "source": [
    "asset1 = data.close['ETHUSDT']\n",
    "asset2 = data.close['AAVEUSDT']\n",
    "benchmark = data.close['1000XECUSDT']\n",
    "\n",
    "# First, run a linear regression on the two assets\n",
    "slr = regression.linear_model.OLS(asset1, sm.add_constant(asset2)).fit()\n",
    "print('SLR beta of asset2:', slr.params[1])"
   ]
  },
  {
   "cell_type": "code",
   "execution_count": 18,
   "metadata": {
    "jupyter": {
     "outputs_hidden": false
    }
   },
   "outputs": [
    {
     "name": "stdout",
     "output_type": "stream",
     "text": [
      "MLR beta of asset2: 2.800691469473983 \n",
      "MLR beta of S&P 500: 8793.117624722147\n"
     ]
    }
   ],
   "source": [
    "# Run multiple linear regression using asset2 and SPY as independent variables\n",
    "mlr = regression.linear_model.OLS(asset1, sm.add_constant(np.column_stack((asset2, benchmark)))).fit()\n",
    "\n",
    "prediction = mlr.params[0] + mlr.params[1]*asset2 + mlr.params[2]*benchmark\n",
    "prediction.name = 'Prediction'\n",
    "\n",
    "print('MLR beta of asset2:', mlr.params[1], '\\nMLR beta of S&P 500:', mlr.params[2])"
   ]
  },
  {
   "cell_type": "markdown",
   "metadata": {},
   "source": [
    "The next step after running an analysis is determining if we can even trust the results. A good first step is checking to see if anything looks weird in graphs of the independent variables, dependent variables, and predictions."
   ]
  },
  {
   "cell_type": "code",
   "execution_count": 19,
   "metadata": {
    "jupyter": {
     "outputs_hidden": false
    }
   },
   "outputs": [
    {
     "data": {
      "image/png": "[encoded data removed]",
      "text/plain": [
       "<Figure size 432x288 with 1 Axes>"
      ]
     },
     "metadata": {
      "needs_background": "light"
     },
     "output_type": "display_data"
    }
   ],
   "source": [
    "# Plot the three variables along with the prediction given by the MLR\n",
    "asset1.plot()\n",
    "asset2.plot()\n",
    "benchmark.plot()\n",
    "prediction.plot(color='y')\n",
    "plt.xlabel('Price')\n",
    "plt.legend(bbox_to_anchor=(1,1), loc=2);"
   ]
  },
  {
   "cell_type": "code",
   "execution_count": 20,
   "metadata": {
    "jupyter": {
     "outputs_hidden": false
    }
   },
   "outputs": [
    {
     "data": {
      "image/png": "[encoded data removed]",
      "text/plain": [
       "<Figure size 432x288 with 1 Axes>"
      ]
     },
     "metadata": {
      "needs_background": "light"
     },
     "output_type": "display_data"
    }
   ],
   "source": [
    "# Plot only the dependent variable and the prediction to get a closer look\n",
    "asset1.plot()\n",
    "prediction.plot(color='y')\n",
    "plt.xlabel('Price')\n",
    "plt.legend();"
   ]
  },
  {
   "cell_type": "markdown",
   "metadata": {},
   "source": [
    "## Evaluation\n",
    "\n",
    "We can get some statistics about the fit from the result returned by the regression:"
   ]
  },
  {
   "cell_type": "code",
   "execution_count": 21,
   "metadata": {
    "jupyter": {
     "outputs_hidden": false
    }
   },
   "outputs": [
    {
     "data": {
      "text/html": [
       "<table class=\"simpletable\">\n",
       "<caption>OLS Regression Results</caption>\n",
       "<tr>\n",
       "  <th>Dep. Variable:</th>         <td>ETHUSDT</td>     <th>  R-squared:         </th> <td>   0.516</td> \n",
       "</tr>\n",
       "<tr>\n",
       "  <th>Model:</th>                   <td>OLS</td>       <th>  Adj. R-squared:    </th> <td>   0.516</td> \n",
       "</tr>\n",
       "<tr>\n",
       "  <th>Method:</th>             <td>Least Squares</td>  <th>  F-statistic:       </th> <td>1.151e+04</td>\n",
       "</tr>\n",
       "<tr>\n",
       "  <th>Date:</th>             <td>Wed, 02 Nov 2022</td> <th>  Prob (F-statistic):</th>  <td>  0.00</td>  \n",
       "</tr>\n",
       "<tr>\n",
       "  <th>Time:</th>                 <td>11:30:51</td>     <th>  Log-Likelihood:    </th> <td> -90209.</td> \n",
       "</tr>\n",
       "<tr>\n",
       "  <th>No. Observations:</th>      <td> 21601</td>      <th>  AIC:               </th> <td>1.804e+05</td>\n",
       "</tr>\n",
       "<tr>\n",
       "  <th>Df Residuals:</th>          <td> 21598</td>      <th>  BIC:               </th> <td>1.804e+05</td>\n",
       "</tr>\n",
       "<tr>\n",
       "  <th>Df Model:</th>              <td>     2</td>      <th>                     </th>     <td> </td>    \n",
       "</tr>\n",
       "<tr>\n",
       "  <th>Covariance Type:</th>      <td>nonrobust</td>    <th>                     </th>     <td> </td>    \n",
       "</tr>\n",
       "</table>\n",
       "<table class=\"simpletable\">\n",
       "<tr>\n",
       "    <td></td>       <th>coef</th>     <th>std err</th>      <th>t</th>      <th>P>|t|</th>  <th>[0.025</th>    <th>0.975]</th>  \n",
       "</tr>\n",
       "<tr>\n",
       "  <th>const</th> <td>  757.4618</td> <td>    4.120</td> <td>  183.850</td> <td> 0.000</td> <td>  749.386</td> <td>  765.537</td>\n",
       "</tr>\n",
       "<tr>\n",
       "  <th>x1</th>    <td>    2.8007</td> <td>    0.021</td> <td>  136.172</td> <td> 0.000</td> <td>    2.760</td> <td>    2.841</td>\n",
       "</tr>\n",
       "<tr>\n",
       "  <th>x2</th>    <td> 8793.1176</td> <td>   92.912</td> <td>   94.639</td> <td> 0.000</td> <td> 8611.003</td> <td> 8975.232</td>\n",
       "</tr>\n",
       "</table>\n",
       "<table class=\"simpletable\">\n",
       "<tr>\n",
       "  <th>Omnibus:</th>       <td>1286.721</td> <th>  Durbin-Watson:     </th> <td>   0.153</td>\n",
       "</tr>\n",
       "<tr>\n",
       "  <th>Prob(Omnibus):</th>  <td> 0.000</td>  <th>  Jarque-Bera (JB):  </th> <td>5270.652</td>\n",
       "</tr>\n",
       "<tr>\n",
       "  <th>Skew:</th>           <td> 0.134</td>  <th>  Prob(JB):          </th> <td>    0.00</td>\n",
       "</tr>\n",
       "<tr>\n",
       "  <th>Kurtosis:</th>       <td> 5.405</td>  <th>  Cond. No.          </th> <td>6.74e+04</td>\n",
       "</tr>\n",
       "</table><br/><br/>Notes:<br/>[1] Standard Errors assume that the covariance matrix of the errors is correctly specified.<br/>[2] The condition number is large, 6.74e+04. This might indicate that there are<br/>strong multicollinearity or other numerical problems."
      ],
      "text/plain": [
       "<class 'statsmodels.iolib.summary.Summary'>\n",
       "\"\"\"\n",
       "                            OLS Regression Results                            \n",
       "==============================================================================\n",
       "Dep. Variable:                ETHUSDT   R-squared:                       0.516\n",
       "Model:                            OLS   Adj. R-squared:                  0.516\n",
       "Method:                 Least Squares   F-statistic:                 1.151e+04\n",
       "Date:                Wed, 02 Nov 2022   Prob (F-statistic):               0.00\n",
       "Time:                        11:30:51   Log-Likelihood:                -90209.\n",
       "No. Observations:               21601   AIC:                         1.804e+05\n",
       "Df Residuals:                   21598   BIC:                         1.804e+05\n",
       "Df Model:                           2                                         \n",
       "Covariance Type:            nonrobust                                         \n",
       "==============================================================================\n",
       "                 coef    std err          t      P>|t|      [0.025      0.975]\n",
       "------------------------------------------------------------------------------\n",
       "const        757.4618      4.120    183.850      0.000     749.386     765.537\n",
       "x1             2.8007      0.021    136.172      0.000       2.760       2.841\n",
       "x2          8793.1176     92.912     94.639      0.000    8611.003    8975.232\n",
       "==============================================================================\n",
       "Omnibus:                     1286.721   Durbin-Watson:                   0.153\n",
       "Prob(Omnibus):                  0.000   Jarque-Bera (JB):             5270.652\n",
       "Skew:                           0.134   Prob(JB):                         0.00\n",
       "Kurtosis:                       5.405   Cond. No.                     6.74e+04\n",
       "==============================================================================\n",
       "\n",
       "Notes:\n",
       "[1] Standard Errors assume that the covariance matrix of the errors is correctly specified.\n",
       "[2] The condition number is large, 6.74e+04. This might indicate that there are\n",
       "strong multicollinearity or other numerical problems.\n",
       "\"\"\""
      ]
     },
     "execution_count": 21,
     "metadata": {},
     "output_type": "execute_result"
    }
   ],
   "source": [
    "mlr.summary()"
   ]
  },
  {
   "cell_type": "markdown",
   "metadata": {},
   "source": [
    "## Model Assumptions\n",
    "\n",
    "The validity of these statistics depends on whether or not the assumptions of the linear regression model are satisfied. These are:\n",
    "* The independent variable is not random.\n",
    "* The variance of the error term is constant across observations. This is important for evaluating the goodness of the fit.\n",
    "* The errors are not autocorrelated. The Durbin-Watson statistic reported by the regression detects this. If it is close to $2$, there is no autocorrelation.\n",
    "* The errors are normally distributed. If this does not hold, we cannot use some of the statistics, such as the F-test.\n",
    "\n",
    "Multiple linear regression also requires an additional assumption:\n",
    "* There is no exact linear relationship between the independent variables. Otherwise, it is impossible to solve for the coefficients $\\beta_i$ uniquely, since the same linear equation can be expressed in multiple ways.\n",
    "\n",
    "If there is a linear relationship between any set of independent variables, also known as covariance, we say that they are linear combinations of each other. In the case where they are dependent on each other in this manner, the values of our $\\beta_i$ coefficients will be inaccurate for a given $X_i$. The intuition for this can be found in an exteme example where $X_1$ and $X_2$ are 100% covarying. In that case then linear regression can equivalently assign the total coefficient sum in any combination without affecting the predictive capability.\n",
    "\n",
    "$$ 1X_1 + 0X_2 = 0.5X_1 + 0.5X_2 = 0X_1 + 1X_2 $$\n",
    "\n",
    "\n",
    "While our coefficients may be nondescriptive, the ultimate model may still be accurate provided that there is a good overall fit between the independent variables and the dependent variables. The best practice for constructing a model where dependence is a problem is to leave out the less descriptive variables that are correlated with the better ones. This improves the model by reducing the chances of overfitting while bringing the $\\beta_i$ estimates closer to their true values.\n",
    "\n",
    "If we confirm that the necessary assumptions of the regression model are satisfied, we can safely use the statistics reported to analyze the fit. For example, the $R^2$ value tells us the fraction of the total variation of $Y$ that is explained by the model. When doing multiple linear regression, however, we prefer to use adjusted $R^2$, which corrects for the small increases in $R^2$ that occur when we add more regression variables to the model, even if they are not significantly correlated with the dependent variable. Adjusted $R^2$ is defined as\n",
    "\n",
    "$$ 1 - (1 - R^2)\\frac{n-1}{n-k-1} $$\n",
    "\n",
    "Where $n$ is the number of observations and $k$ is the number of independent variables in the model. Other useful statistics include the F-statistic and the standard error of estimate."
   ]
  },
  {
   "cell_type": "markdown",
   "metadata": {},
   "source": [
    "## Model Selection Example\n",
    "\n",
    "When deciding on the best possible model of your dependent variables, there are several different methods to turn to. If you use too many explanatory variables, you run the risk of overfitting your model, but if you use too few you may end up with a terrible fit. One of the most prominent methods to decide on a best model is stepwise regression. Forward stepwise regression starts from an empty model and tests each individual variable, selecting the one that results in the best model quality, usually measured with AIC or BIC (lowest is best). It then adds the remaining variables one at a time, testing each subsequent combination of explanatory variables in a regression and calculating the AIC or BIC value at each step. At the end of the regression, the model with the best quality (according to the given measure) is selected and presented as a the final, best model. This does have limitations, however. It does not test every single possible combination of variables so it may miss the theoretical best model if a particular variable was written off earlier in performing the algorithm. As such, stepwise regression should be used in combination with your best judgment regarding the model."
   ]
  },
  {
   "cell_type": "code",
   "execution_count": 22,
   "metadata": {
    "jupyter": {
     "outputs_hidden": false
    }
   },
   "outputs": [
    {
     "data": {
      "image/png": "[encoded data removed]",
      "text/plain": [
       "<Figure size 432x288 with 1 Axes>"
      ]
     },
     "metadata": {
      "needs_background": "light"
     },
     "output_type": "display_data"
    }
   ],
   "source": [
    "X1 = np.arange(100)\n",
    "X2 = [i**2 for i in range(100)] - X1\n",
    "X3 = [np.log(i) for i in range(1, 101)] + X2\n",
    "X4 = 5 * X1\n",
    "Y = 2 * X1 + 0.5 * X2 + 10 * X3 + X4\n",
    "\n",
    "plt.plot(X1, label='X1')\n",
    "plt.plot(X2, label='X2')\n",
    "plt.plot(X3, label='X3')\n",
    "plt.plot(X4, label='X4')\n",
    "plt.plot(Y, label='Y')\n",
    "plt.legend();"
   ]
  },
  {
   "cell_type": "code",
   "execution_count": 23,
   "metadata": {
    "jupyter": {
     "outputs_hidden": false
    }
   },
   "outputs": [
    {
     "name": "stdout",
     "output_type": "stream",
     "text": [
      "Beta_0: -4.547473508864641e-13\n",
      "Beta_1: 0.26923076923057554\n",
      "Beta_2: 0.5000000000045475\n",
      "Beta_3: 9.999999999995907\n",
      "Beta_4: 1.3461538461538538\n"
     ]
    }
   ],
   "source": [
    "results = regression.linear_model.OLS(Y, sm.add_constant(np.column_stack((X1,X2,X3,X4)))).fit()\n",
    "\n",
    "print(\"Beta_0:\", results.params[0])\n",
    "print(\"Beta_1:\", results.params[1])\n",
    "print(\"Beta_2:\", results.params[2])\n",
    "print(\"Beta_3:\", results.params[3])\n",
    "print(\"Beta_4:\", results.params[4])"
   ]
  },
  {
   "cell_type": "code",
   "execution_count": 24,
   "metadata": {
    "jupyter": {
     "outputs_hidden": false
    }
   },
   "outputs": [],
   "source": [
    "data = pd.DataFrame(np.column_stack((X1,X2,X3,X4)), columns=['X1','X2','X3','X4'])\n",
    "response = pd.Series(Y, name='Y')"
   ]
  },
  {
   "cell_type": "code",
   "execution_count": 25,
   "metadata": {
    "jupyter": {
     "outputs_hidden": false
    }
   },
   "outputs": [],
   "source": [
    "def forward_aic(response, data):\n",
    "    # This function will work with pandas dataframes and series\n",
    "    \n",
    "    # Initialize some variables\n",
    "    explanatory = list(data.columns)\n",
    "    selected = pd.Series(np.ones(data.shape[0]), name=\"Intercept\")\n",
    "    current_score, best_new_score = np.inf, np.inf\n",
    "    \n",
    "    # Loop while we haven't found a better model\n",
    "    while current_score == best_new_score and len(explanatory) != 0:\n",
    "        \n",
    "        scores_with_elements = []\n",
    "        count = 0\n",
    "        \n",
    "        # For each explanatory variable\n",
    "        for element in explanatory:\n",
    "            # Make a set of explanatory variables including our current best and the new one\n",
    "            tmp = pd.concat([selected, data[element]], axis=1)\n",
    "            # Test the set\n",
    "            result = regression.linear_model.OLS(Y, tmp).fit()\n",
    "            score = result.aic\n",
    "            scores_with_elements.append((score, element, count))\n",
    "            count += 1\n",
    "        \n",
    "        # Sort the scoring list\n",
    "        scores_with_elements.sort(reverse = True)\n",
    "        # Get the best new variable\n",
    "        best_new_score, best_element, index = scores_with_elements.pop()\n",
    "        if current_score > best_new_score:\n",
    "            # If it's better than the best add it to the set\n",
    "            explanatory.pop(index)\n",
    "            selected = pd.concat([selected, data[best_element]],axis=1)\n",
    "            current_score = best_new_score\n",
    "    # Return the final model\n",
    "    model = regression.linear_model.OLS(Y, selected).fit()\n",
    "    return model"
   ]
  },
  {
   "cell_type": "code",
   "execution_count": 26,
   "metadata": {
    "jupyter": {
     "outputs_hidden": false
    }
   },
   "outputs": [
    {
     "data": {
      "text/html": [
       "<table class=\"simpletable\">\n",
       "<caption>OLS Regression Results</caption>\n",
       "<tr>\n",
       "  <th>Dep. Variable:</th>            <td>y</td>        <th>  R-squared:         </th> <td>   1.000</td> \n",
       "</tr>\n",
       "<tr>\n",
       "  <th>Model:</th>                   <td>OLS</td>       <th>  Adj. R-squared:    </th> <td>   1.000</td> \n",
       "</tr>\n",
       "<tr>\n",
       "  <th>Method:</th>             <td>Least Squares</td>  <th>  F-statistic:       </th> <td>1.962e+27</td>\n",
       "</tr>\n",
       "<tr>\n",
       "  <th>Date:</th>             <td>Wed, 02 Nov 2022</td> <th>  Prob (F-statistic):</th>  <td>  0.00</td>  \n",
       "</tr>\n",
       "<tr>\n",
       "  <th>Time:</th>                 <td>11:31:08</td>     <th>  Log-Likelihood:    </th> <td>  1793.1</td> \n",
       "</tr>\n",
       "<tr>\n",
       "  <th>No. Observations:</th>      <td>   100</td>      <th>  AIC:               </th> <td>  -3578.</td> \n",
       "</tr>\n",
       "<tr>\n",
       "  <th>Df Residuals:</th>          <td>    96</td>      <th>  BIC:               </th> <td>  -3568.</td> \n",
       "</tr>\n",
       "<tr>\n",
       "  <th>Df Model:</th>              <td>     3</td>      <th>                     </th>     <td> </td>    \n",
       "</tr>\n",
       "<tr>\n",
       "  <th>Covariance Type:</th>      <td>nonrobust</td>    <th>                     </th>     <td> </td>    \n",
       "</tr>\n",
       "</table>\n",
       "<table class=\"simpletable\">\n",
       "<tr>\n",
       "      <td></td>         <th>coef</th>     <th>std err</th>      <th>t</th>      <th>P>|t|</th>  <th>[0.025</th>    <th>0.975]</th>  \n",
       "</tr>\n",
       "<tr>\n",
       "  <th>Intercept</th> <td>-4.547e-12</td> <td> 2.78e-09</td> <td>   -0.002</td> <td> 0.999</td> <td>-5.53e-09</td> <td> 5.52e-09</td>\n",
       "</tr>\n",
       "<tr>\n",
       "  <th>X3</th>        <td>   10.0000</td> <td> 1.68e-09</td> <td> 5.94e+09</td> <td> 0.000</td> <td>   10.000</td> <td>   10.000</td>\n",
       "</tr>\n",
       "<tr>\n",
       "  <th>X4</th>        <td>    1.4000</td> <td> 2.68e-11</td> <td> 5.23e+10</td> <td> 0.000</td> <td>    1.400</td> <td>    1.400</td>\n",
       "</tr>\n",
       "<tr>\n",
       "  <th>X2</th>        <td>    0.5000</td> <td> 1.68e-09</td> <td> 2.97e+08</td> <td> 0.000</td> <td>    0.500</td> <td>    0.500</td>\n",
       "</tr>\n",
       "</table>\n",
       "<table class=\"simpletable\">\n",
       "<tr>\n",
       "  <th>Omnibus:</th>       <td>13.911</td> <th>  Durbin-Watson:     </th> <td>   0.001</td>\n",
       "</tr>\n",
       "<tr>\n",
       "  <th>Prob(Omnibus):</th> <td> 0.001</td> <th>  Jarque-Bera (JB):  </th> <td>  10.066</td>\n",
       "</tr>\n",
       "<tr>\n",
       "  <th>Skew:</th>          <td>-0.654</td> <th>  Prob(JB):          </th> <td> 0.00652</td>\n",
       "</tr>\n",
       "<tr>\n",
       "  <th>Kurtosis:</th>      <td> 2.161</td> <th>  Cond. No.          </th> <td>5.48e+04</td>\n",
       "</tr>\n",
       "</table><br/><br/>Notes:<br/>[1] Standard Errors assume that the covariance matrix of the errors is correctly specified.<br/>[2] The condition number is large, 5.48e+04. This might indicate that there are<br/>strong multicollinearity or other numerical problems."
      ],
      "text/plain": [
       "<class 'statsmodels.iolib.summary.Summary'>\n",
       "\"\"\"\n",
       "                            OLS Regression Results                            \n",
       "==============================================================================\n",
       "Dep. Variable:                      y   R-squared:                       1.000\n",
       "Model:                            OLS   Adj. R-squared:                  1.000\n",
       "Method:                 Least Squares   F-statistic:                 1.962e+27\n",
       "Date:                Wed, 02 Nov 2022   Prob (F-statistic):               0.00\n",
       "Time:                        11:31:08   Log-Likelihood:                 1793.1\n",
       "No. Observations:                 100   AIC:                            -3578.\n",
       "Df Residuals:                      96   BIC:                            -3568.\n",
       "Df Model:                           3                                         \n",
       "Covariance Type:            nonrobust                                         \n",
       "==============================================================================\n",
       "                 coef    std err          t      P>|t|      [0.025      0.975]\n",
       "------------------------------------------------------------------------------\n",
       "Intercept  -4.547e-12   2.78e-09     -0.002      0.999   -5.53e-09    5.52e-09\n",
       "X3            10.0000   1.68e-09   5.94e+09      0.000      10.000      10.000\n",
       "X4             1.4000   2.68e-11   5.23e+10      0.000       1.400       1.400\n",
       "X2             0.5000   1.68e-09   2.97e+08      0.000       0.500       0.500\n",
       "==============================================================================\n",
       "Omnibus:                       13.911   Durbin-Watson:                   0.001\n",
       "Prob(Omnibus):                  0.001   Jarque-Bera (JB):               10.066\n",
       "Skew:                          -0.654   Prob(JB):                      0.00652\n",
       "Kurtosis:                       2.161   Cond. No.                     5.48e+04\n",
       "==============================================================================\n",
       "\n",
       "Notes:\n",
       "[1] Standard Errors assume that the covariance matrix of the errors is correctly specified.\n",
       "[2] The condition number is large, 5.48e+04. This might indicate that there are\n",
       "strong multicollinearity or other numerical problems.\n",
       "\"\"\""
      ]
     },
     "execution_count": 26,
     "metadata": {},
     "output_type": "execute_result"
    }
   ],
   "source": [
    "result = forward_aic(Y, data)\n",
    "result.summary()"
   ]
  },
  {
   "cell_type": "markdown",
   "metadata": {},
   "source": [
    "In the construction of this model, the $X_4$ term is highly closely related to the $X1$ term, simply multiplying it by a scalar. However, stepwise regression did not catch this and remove the variable and simply adjust the coefficient of the $X_1$ term. Our own judgment would say to leave the $X_4$ term out of the model, showing the limitations of stepwise regression.\n",
    "\n",
    "There are other ways to diagnose the health of a model and individual variables with varying degrees of penalty given to more complex models. This will be covered in-depth in a model selection notebook."
   ]
  },
  {
   "cell_type": "markdown",
   "metadata": {},
   "source": [
    "---\n",
    "\n",
    "**Next Lecture:** [Violations of Regression Models](Lecture16-Violations-of-Regression-Models.ipynb) \n",
    "\n",
    "[Back to Introduction](Introduction.ipynb) "
   ]
  },
  {
   "cell_type": "markdown",
   "metadata": {},
   "source": [
    "---\n",
    "\n",
    "*This presentation is for informational purposes only and does not constitute an offer to sell, a solicitation to buy, or a recommendation for any security; nor does it constitute an offer to provide investment advisory or other services by Quantopian, Inc. (\"Quantopian\") or QuantRocket LLC (\"QuantRocket\"). Nothing contained herein constitutes investment advice or offers any opinion with respect to the suitability of any security, and any views expressed herein should not be taken as advice to buy, sell, or hold any security or as an endorsement of any security or company.  In preparing the information contained herein, neither Quantopian nor QuantRocket has taken into account the investment needs, objectives, and financial circumstances of any particular investor. Any views expressed and data illustrated herein were prepared based upon information believed to be reliable at the time of publication. Neither Quantopian nor QuantRocket makes any guarantees as to their accuracy or completeness. All information is subject to change and may quickly become unreliable for various reasons, including changes in market conditions or economic circumstances.*"
   ]
  }
 ],
 "metadata": {
  "kernelspec": {
   "display_name": "Python 3 (ipykernel)",
   "language": "python",
   "name": "python3"
  },
  "language_info": {
   "codemirror_mode": {
    "name": "ipython",
    "version": 3
   },
   "file_extension": ".py",
   "mimetype": "text/x-python",
   "name": "python",
   "nbconvert_exporter": "python",
   "pygments_lexer": "ipython3",
   "version": "3.9.13"
  }
 },
 "nbformat": 4,
 "nbformat_minor": 4
}
