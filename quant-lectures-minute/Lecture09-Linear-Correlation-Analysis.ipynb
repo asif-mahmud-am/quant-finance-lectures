{
 "cells": [
  {
   "cell_type": "markdown",
   "metadata": {},
   "source": [
    "<img alt=\"QuantRocket logo\" src=\"https://www.quantrocket.com/assets/img/notebook-header-logo.png\">\n",
    "\n",
    "© Copyright Quantopian Inc.<br>\n",
    "© Modifications Copyright QuantRocket LLC<br>\n",
    "Licensed under the [Creative Commons Attribution 4.0](https://creativecommons.org/licenses/by/4.0/legalcode).\n",
    "\n",
    "<a href=\"https://www.quantrocket.com/disclaimer/\">Disclaimer</a>"
   ]
  },
  {
   "cell_type": "markdown",
   "metadata": {},
   "source": [
    "# The Correlation Coefficient\n",
    "By Evgenia \"Jenny\" Nitishinskaya and Delaney Granizo-Mackenzie with example algorithms by David Edwards"
   ]
  },
  {
   "cell_type": "markdown",
   "metadata": {},
   "source": [
    "The correlation coefficient measures the extent to which the relationship between two variables is linear. Its value is always between -1 and 1. A positive coefficient indicates that the variables are directly related, i.e. when one increases the other one also increases. A negative coefficient indicates that the variables are inversely related, so that when one increases the other decreases. The closer to 0 the correlation coefficient is, the weaker the relationship between the variables.\n",
    "\n",
    "The correlation coefficient of two series $X$ and $Y$ is defined as\n",
    "$$r = \\frac{Cov(X,Y)}{std(X)std(Y)}$$\n",
    "where $Cov$ is the covariance and $std$ is the standard deviation.\n",
    "\n",
    "Two random sets of data will have a correlation coefficient close to 0:"
   ]
  },
  {
   "cell_type": "markdown",
   "metadata": {},
   "source": [
    "## Correlation vs. Covariance\n",
    "\n",
    "Correlation is simply a normalized form of covariance. They are otherwise the same and are often used semi-interchangeably in everyday conversation. It is obviously important to be precise with language when discussing the two, but conceptually they are almost identical.\n",
    "\n",
    "### Covariance isn't that meaningful by itself\n",
    "\n",
    "Let's say we have two variables $X$ and $Y$ and we take the covariance of the two."
   ]
  },
  {
   "cell_type": "code",
   "execution_count": 1,
   "metadata": {},
   "outputs": [],
   "source": [
    "import numpy as np\n",
    "import pandas as pd\n",
    "import matplotlib.pyplot as plt"
   ]
  },
  {
   "cell_type": "code",
   "execution_count": 2,
   "metadata": {
    "jupyter": {
     "outputs_hidden": false
    }
   },
   "outputs": [
    {
     "data": {
      "text/plain": [
       "0.22535820050858063"
      ]
     },
     "execution_count": 2,
     "metadata": {},
     "output_type": "execute_result"
    }
   ],
   "source": [
    "X = np.random.rand(50)\n",
    "Y = 2 * X + np.random.normal(0, 0.1, 50)\n",
    "\n",
    "np.cov(X, Y)[0, 1]"
   ]
  },
  {
   "cell_type": "markdown",
   "metadata": {},
   "source": [
    "So now what? What does this mean? Correlation uses information about the variance of X and Y to normalize this metric. Once we've normalized the metric to the -1 to 1 scale, we can make meaningful statements and compare correlations.\n",
    "\n",
    "To see how this is done consider the formula.\n",
    "\n",
    "$$\\frac{Cov(X, Y)}{std(X)std(Y)}$$\n",
    "\n",
    "$$= \\frac{Cov(X, Y)}{\\sqrt{var(X)}\\sqrt{var(Y)}}$$\n",
    "\n",
    "$$= \\frac{Cov(X, Y)}{\\sqrt{Cov(X, X)}\\sqrt{Cov(Y, Y)}}$$"
   ]
  },
  {
   "cell_type": "markdown",
   "metadata": {},
   "source": [
    "To demonstrate this let's compare the correlation and covariance of two series."
   ]
  },
  {
   "cell_type": "code",
   "execution_count": 3,
   "metadata": {
    "jupyter": {
     "outputs_hidden": false
    }
   },
   "outputs": [
    {
     "name": "stdout",
     "output_type": "stream",
     "text": [
      "Covariance of X and Y: \n",
      "[[0.0755584  0.15111681]\n",
      " [0.15111681 0.30223361]]\n",
      "Correlation of X and Y: \n",
      "[[1. 1.]\n",
      " [1. 1.]]\n"
     ]
    }
   ],
   "source": [
    "X = np.random.rand(50)\n",
    "Y = 2 * X + 4\n",
    "\n",
    "print('Covariance of X and Y: \\n' + str(np.cov(X, Y)))\n",
    "print('Correlation of X and Y: \\n' + str(np.corrcoef(X, Y)))"
   ]
  },
  {
   "cell_type": "markdown",
   "metadata": {},
   "source": [
    "## Why do both `np.cov` and `np.corrcoef` return matrices?\n",
    "\n",
    "The covariance matrix is an important concept in statistics. Often people will refer to the covariance of two variables $X$ and $Y$, but in reality that is just one entry in the covariance matrix of $X$ and $Y$. For each input variable we have one row and one column. The diagonal is just the variance of that variable, or $Cov(X, X)$, entries off the diagonal are covariances between different variables. The matrix is symmetric across the diagonal. Let's check that this is true."
   ]
  },
  {
   "cell_type": "code",
   "execution_count": 4,
   "metadata": {
    "jupyter": {
     "outputs_hidden": false
    }
   },
   "outputs": [
    {
     "name": "stdout",
     "output_type": "stream",
     "text": [
      "error: -1.3877787807814457e-17\n"
     ]
    }
   ],
   "source": [
    "cov_matrix = np.cov(X, Y)\n",
    "\n",
    "# We need to manually set the degrees of freedom on X to 1, as numpy defaults to 0 for variance\n",
    "# This is usually fine, but will result in a slight mismatch as np.cov defaults to 1\n",
    "error = cov_matrix[0, 0] - X.var(ddof=1)\n",
    "\n",
    "print('error: ' + str(error))"
   ]
  },
  {
   "cell_type": "code",
   "execution_count": 5,
   "metadata": {
    "jupyter": {
     "outputs_hidden": false
    }
   },
   "outputs": [
    {
     "name": "stdout",
     "output_type": "stream",
     "text": [
      "Correlation: -0.03375245994428407\n",
      "Built-in Correlation: -0.03307741074539838\n"
     ]
    },
    {
     "data": {
      "image/png": "[encoded data removed]",
      "text/plain": [
       "<Figure size 432x288 with 1 Axes>"
      ]
     },
     "metadata": {
      "needs_background": "light"
     },
     "output_type": "display_data"
    }
   ],
   "source": [
    "X = np.random.rand(50)\n",
    "Y = np.random.rand(50)\n",
    "\n",
    "plt.scatter(X,Y)\n",
    "plt.xlabel('X Value')\n",
    "plt.ylabel('Y Value')\n",
    "\n",
    "# taking the relevant value from the matrix returned by np.cov\n",
    "print('Correlation: ' + str(np.cov(X,Y)[0,1]/(np.std(X)*np.std(Y))))\n",
    "# Let's also use the builtin correlation function\n",
    "print('Built-in Correlation: ' + str(np.corrcoef(X, Y)[0, 1]))"
   ]
  },
  {
   "cell_type": "markdown",
   "metadata": {},
   "source": [
    "Now let's see what two correlated sets of data look like."
   ]
  },
  {
   "cell_type": "code",
   "execution_count": 6,
   "metadata": {
    "jupyter": {
     "outputs_hidden": false
    }
   },
   "outputs": [
    {
     "name": "stdout",
     "output_type": "stream",
     "text": [
      "Correlation: 0.9589859278091447\n"
     ]
    },
    {
     "data": {
      "image/png": "[encoded data removed]",
      "text/plain": [
       "<Figure size 432x288 with 1 Axes>"
      ]
     },
     "metadata": {
      "needs_background": "light"
     },
     "output_type": "display_data"
    }
   ],
   "source": [
    "X = np.random.rand(50)\n",
    "Y = X + np.random.normal(0, 0.1, 50)\n",
    "\n",
    "plt.scatter(X,Y)\n",
    "plt.xlabel('X Value')\n",
    "plt.ylabel('Y Value')\n",
    "\n",
    "print('Correlation: ' + str(np.corrcoef(X, Y)[0, 1]))"
   ]
  },
  {
   "cell_type": "markdown",
   "metadata": {},
   "source": [
    "Let's dial down the relationship by introducing more noise."
   ]
  },
  {
   "cell_type": "code",
   "execution_count": 7,
   "metadata": {
    "jupyter": {
     "outputs_hidden": false
    }
   },
   "outputs": [
    {
     "name": "stdout",
     "output_type": "stream",
     "text": [
      "Correlation: 0.781337299904547\n"
     ]
    },
    {
     "data": {
      "image/png": "[encoded data removed]",
      "text/plain": [
       "<Figure size 432x288 with 1 Axes>"
      ]
     },
     "metadata": {
      "needs_background": "light"
     },
     "output_type": "display_data"
    }
   ],
   "source": [
    "X = np.random.rand(50)\n",
    "Y = X + np.random.normal(0, .2, 50)\n",
    "\n",
    "plt.scatter(X,Y)\n",
    "plt.xlabel('X Value')\n",
    "plt.ylabel('Y Value')\n",
    "\n",
    "print('Correlation: ' + str(np.corrcoef(X, Y)[0, 1]))"
   ]
  },
  {
   "cell_type": "markdown",
   "metadata": {},
   "source": [
    "Finally, let's see what an inverse relationship looks like."
   ]
  },
  {
   "cell_type": "code",
   "execution_count": 8,
   "metadata": {
    "jupyter": {
     "outputs_hidden": false
    }
   },
   "outputs": [
    {
     "name": "stdout",
     "output_type": "stream",
     "text": [
      "Correlation: -0.9539133074323266\n"
     ]
    },
    {
     "data": {
      "image/png": "[encoded data removed]",
      "text/plain": [
       "<Figure size 432x288 with 1 Axes>"
      ]
     },
     "metadata": {
      "needs_background": "light"
     },
     "output_type": "display_data"
    }
   ],
   "source": [
    "X = np.random.rand(50)\n",
    "Y = -X + np.random.normal(0, .1, 50)\n",
    "\n",
    "plt.scatter(X,Y)\n",
    "plt.xlabel('X Value')\n",
    "plt.ylabel('Y Value')\n",
    "\n",
    "print('Correlation: ' + str(np.corrcoef(X, Y)[0, 1]))"
   ]
  },
  {
   "cell_type": "markdown",
   "metadata": {},
   "source": [
    "We see a little bit of rounding error, but they are clearly the same value."
   ]
  },
  {
   "cell_type": "markdown",
   "metadata": {},
   "source": [
    "## How is this useful in finance?\n",
    "\n",
    "### Determining related assets\n",
    "\n",
    "Once we've established that two series are probably related, we can use that in an effort to predict future values of the series. For example, let's look at the price of Apple and Microsoft."
   ]
  },
  {
   "cell_type": "code",
   "execution_count": 14,
   "metadata": {},
   "outputs": [],
   "source": [
    "import sys\n",
    "import os\n",
    "root_dir = os.getcwd().replace('/quant-lectures-minutes','')\n",
    "sys.path.insert(1, root_dir)"
   ]
  },
  {
   "cell_type": "code",
   "execution_count": 15,
   "metadata": {},
   "outputs": [],
   "source": [
    "from utils import *"
   ]
  },
  {
   "cell_type": "code",
   "execution_count": 16,
   "metadata": {},
   "outputs": [],
   "source": [
    "from zipline.utils.run_algo import load_extensions\n",
    "from zipline.data import bundles\n",
    "from zipline.data.data_portal import DataPortal\n",
    "from zipline.utils.calendar_utils import get_calendar\n",
    "import os\n",
    "load_extensions(\n",
    "    default=True,\n",
    "    extensions=[],\n",
    "    strict=True,\n",
    "    environ=os.environ,\n",
    ")"
   ]
  },
  {
   "cell_type": "code",
   "execution_count": 17,
   "metadata": {},
   "outputs": [],
   "source": [
    "start = '2022-10-20'\n",
    "end = '2022-10-29'\n",
    "\n",
    "bundle = 'binance'\n",
    "calendar_name = '24/7'\n",
    "calendar = get_calendar(calendar_name)\n",
    "bundle_data = bundles.load(bundle)\n",
    "sids = bundle_data.asset_finder.sids\n",
    "assets = bundle_data.asset_finder.retrieve_all(sids)\n",
    "coin_list = [coin.symbol for coin in assets]\n",
    "\n",
    "db = minuteBars(coins=coin_list, bundle=bundle, calendar=calendar)"
   ]
  },
  {
   "cell_type": "code",
   "execution_count": 18,
   "metadata": {},
   "outputs": [
    {
     "data": {
      "text/html": [
       "<div>\n",
       "<style scoped>\n",
       "    .dataframe tbody tr th:only-of-type {\n",
       "        vertical-align: middle;\n",
       "    }\n",
       "\n",
       "    .dataframe tbody tr th {\n",
       "        vertical-align: top;\n",
       "    }\n",
       "\n",
       "    .dataframe thead tr th {\n",
       "        text-align: left;\n",
       "    }\n",
       "</style>\n",
       "<table border=\"1\" class=\"dataframe\">\n",
       "  <thead>\n",
       "    <tr>\n",
       "      <th></th>\n",
       "      <th colspan=\"21\" halign=\"left\">close</th>\n",
       "    </tr>\n",
       "    <tr>\n",
       "      <th></th>\n",
       "      <th>1000SHIBUSDT</th>\n",
       "      <th>1000XECUSDT</th>\n",
       "      <th>1INCHUSDT</th>\n",
       "      <th>AAVEUSDT</th>\n",
       "      <th>ALGOUSDT</th>\n",
       "      <th>ALICEUSDT</th>\n",
       "      <th>ALPHAUSDT</th>\n",
       "      <th>ANKRUSDT</th>\n",
       "      <th>ANTUSDT</th>\n",
       "      <th>APEUSDT</th>\n",
       "      <th>...</th>\n",
       "      <th>UNIUSDT</th>\n",
       "      <th>VETUSDT</th>\n",
       "      <th>WAVESUSDT</th>\n",
       "      <th>WOOUSDT</th>\n",
       "      <th>XEMUSDT</th>\n",
       "      <th>XLMUSDT</th>\n",
       "      <th>XRPUSDT</th>\n",
       "      <th>XTZUSDT</th>\n",
       "      <th>YFIUSDT</th>\n",
       "      <th>ZRXUSDT</th>\n",
       "    </tr>\n",
       "  </thead>\n",
       "  <tbody>\n",
       "    <tr>\n",
       "      <th>2022-10-20 00:00:00+00:00</th>\n",
       "      <td>0.01</td>\n",
       "      <td>0.036</td>\n",
       "      <td>0.561</td>\n",
       "      <td>83.18</td>\n",
       "      <td>0.308</td>\n",
       "      <td>1.465</td>\n",
       "      <td>0.501</td>\n",
       "      <td>0.027</td>\n",
       "      <td>1.617</td>\n",
       "      <td>4.249</td>\n",
       "      <td>...</td>\n",
       "      <td>6.670</td>\n",
       "      <td>0.022</td>\n",
       "      <td>3.372</td>\n",
       "      <td>0.168</td>\n",
       "      <td>0.102</td>\n",
       "      <td>0.111</td>\n",
       "      <td>0.458</td>\n",
       "      <td>1.388</td>\n",
       "      <td>7489.4</td>\n",
       "      <td>0.239</td>\n",
       "    </tr>\n",
       "    <tr>\n",
       "      <th>2022-10-20 00:01:00+00:00</th>\n",
       "      <td>0.01</td>\n",
       "      <td>0.037</td>\n",
       "      <td>0.560</td>\n",
       "      <td>82.98</td>\n",
       "      <td>0.308</td>\n",
       "      <td>1.525</td>\n",
       "      <td>0.501</td>\n",
       "      <td>0.029</td>\n",
       "      <td>1.613</td>\n",
       "      <td>4.237</td>\n",
       "      <td>...</td>\n",
       "      <td>6.538</td>\n",
       "      <td>0.022</td>\n",
       "      <td>3.372</td>\n",
       "      <td>0.168</td>\n",
       "      <td>0.102</td>\n",
       "      <td>0.111</td>\n",
       "      <td>0.452</td>\n",
       "      <td>1.388</td>\n",
       "      <td>7482.4</td>\n",
       "      <td>0.239</td>\n",
       "    </tr>\n",
       "    <tr>\n",
       "      <th>2022-10-20 00:02:00+00:00</th>\n",
       "      <td>0.01</td>\n",
       "      <td>0.037</td>\n",
       "      <td>0.564</td>\n",
       "      <td>83.26</td>\n",
       "      <td>0.307</td>\n",
       "      <td>1.462</td>\n",
       "      <td>0.501</td>\n",
       "      <td>0.029</td>\n",
       "      <td>1.614</td>\n",
       "      <td>4.224</td>\n",
       "      <td>...</td>\n",
       "      <td>6.538</td>\n",
       "      <td>0.022</td>\n",
       "      <td>3.372</td>\n",
       "      <td>0.168</td>\n",
       "      <td>0.102</td>\n",
       "      <td>0.111</td>\n",
       "      <td>0.453</td>\n",
       "      <td>1.360</td>\n",
       "      <td>7489.4</td>\n",
       "      <td>0.237</td>\n",
       "    </tr>\n",
       "    <tr>\n",
       "      <th>2022-10-20 00:03:00+00:00</th>\n",
       "      <td>0.01</td>\n",
       "      <td>0.036</td>\n",
       "      <td>0.559</td>\n",
       "      <td>83.27</td>\n",
       "      <td>0.307</td>\n",
       "      <td>1.526</td>\n",
       "      <td>0.501</td>\n",
       "      <td>0.029</td>\n",
       "      <td>1.617</td>\n",
       "      <td>4.224</td>\n",
       "      <td>...</td>\n",
       "      <td>6.512</td>\n",
       "      <td>0.022</td>\n",
       "      <td>3.372</td>\n",
       "      <td>0.168</td>\n",
       "      <td>0.102</td>\n",
       "      <td>0.111</td>\n",
       "      <td>0.454</td>\n",
       "      <td>1.361</td>\n",
       "      <td>7491.6</td>\n",
       "      <td>0.237</td>\n",
       "    </tr>\n",
       "    <tr>\n",
       "      <th>2022-10-20 00:04:00+00:00</th>\n",
       "      <td>0.01</td>\n",
       "      <td>0.037</td>\n",
       "      <td>0.563</td>\n",
       "      <td>83.28</td>\n",
       "      <td>0.305</td>\n",
       "      <td>1.528</td>\n",
       "      <td>0.501</td>\n",
       "      <td>0.029</td>\n",
       "      <td>1.616</td>\n",
       "      <td>4.219</td>\n",
       "      <td>...</td>\n",
       "      <td>6.528</td>\n",
       "      <td>0.022</td>\n",
       "      <td>3.372</td>\n",
       "      <td>0.168</td>\n",
       "      <td>0.102</td>\n",
       "      <td>0.111</td>\n",
       "      <td>0.452</td>\n",
       "      <td>1.361</td>\n",
       "      <td>7492.8</td>\n",
       "      <td>0.237</td>\n",
       "    </tr>\n",
       "  </tbody>\n",
       "</table>\n",
       "<p>5 rows × 116 columns</p>\n",
       "</div>"
      ],
      "text/plain": [
       "                                 close                                 \\\n",
       "                          1000SHIBUSDT 1000XECUSDT 1INCHUSDT AAVEUSDT   \n",
       "2022-10-20 00:00:00+00:00         0.01       0.036     0.561    83.18   \n",
       "2022-10-20 00:01:00+00:00         0.01       0.037     0.560    82.98   \n",
       "2022-10-20 00:02:00+00:00         0.01       0.037     0.564    83.26   \n",
       "2022-10-20 00:03:00+00:00         0.01       0.036     0.559    83.27   \n",
       "2022-10-20 00:04:00+00:00         0.01       0.037     0.563    83.28   \n",
       "\n",
       "                                                                         \\\n",
       "                          ALGOUSDT ALICEUSDT ALPHAUSDT ANKRUSDT ANTUSDT   \n",
       "2022-10-20 00:00:00+00:00    0.308     1.465     0.501    0.027   1.617   \n",
       "2022-10-20 00:01:00+00:00    0.308     1.525     0.501    0.029   1.613   \n",
       "2022-10-20 00:02:00+00:00    0.307     1.462     0.501    0.029   1.614   \n",
       "2022-10-20 00:03:00+00:00    0.307     1.526     0.501    0.029   1.617   \n",
       "2022-10-20 00:04:00+00:00    0.305     1.528     0.501    0.029   1.616   \n",
       "\n",
       "                                   ...                                    \\\n",
       "                          APEUSDT  ... UNIUSDT VETUSDT WAVESUSDT WOOUSDT   \n",
       "2022-10-20 00:00:00+00:00   4.249  ...   6.670   0.022     3.372   0.168   \n",
       "2022-10-20 00:01:00+00:00   4.237  ...   6.538   0.022     3.372   0.168   \n",
       "2022-10-20 00:02:00+00:00   4.224  ...   6.538   0.022     3.372   0.168   \n",
       "2022-10-20 00:03:00+00:00   4.224  ...   6.512   0.022     3.372   0.168   \n",
       "2022-10-20 00:04:00+00:00   4.219  ...   6.528   0.022     3.372   0.168   \n",
       "\n",
       "                                                                           \n",
       "                          XEMUSDT XLMUSDT XRPUSDT XTZUSDT YFIUSDT ZRXUSDT  \n",
       "2022-10-20 00:00:00+00:00   0.102   0.111   0.458   1.388  7489.4   0.239  \n",
       "2022-10-20 00:01:00+00:00   0.102   0.111   0.452   1.388  7482.4   0.239  \n",
       "2022-10-20 00:02:00+00:00   0.102   0.111   0.453   1.360  7489.4   0.237  \n",
       "2022-10-20 00:03:00+00:00   0.102   0.111   0.454   1.361  7491.6   0.237  \n",
       "2022-10-20 00:04:00+00:00   0.102   0.111   0.452   1.361  7492.8   0.237  \n",
       "\n",
       "[5 rows x 116 columns]"
      ]
     },
     "execution_count": 18,
     "metadata": {},
     "output_type": "execute_result"
    }
   ],
   "source": [
    "# start = '2022-01-01'\n",
    "# end = '2022-08-01'\n",
    "value_list = ['close']\n",
    "data = db.ohlcvData(start=start, end=end, value_list=value_list)\n",
    "price = db.avgPriceData(start=start, end=end)\n",
    "data.head()"
   ]
  },
  {
   "cell_type": "code",
   "execution_count": 19,
   "metadata": {},
   "outputs": [
    {
     "data": {
      "text/plain": [
       "12961"
      ]
     },
     "execution_count": 19,
     "metadata": {},
     "output_type": "execute_result"
    }
   ],
   "source": [
    "len(data)"
   ]
  },
  {
   "cell_type": "markdown",
   "metadata": {},
   "source": [
    "### Constructing a portfolio of uncorrelated assets\n",
    "\n",
    "Another reason that correlation is useful in finance is that uncorrelated assets produce the best portfolios. The intuition for this is that if the assets are uncorrelated, a drawdown in one will not correspond with a drawdown in another. This leads to a very stable return stream when many uncorrelated assets are combined."
   ]
  },
  {
   "cell_type": "markdown",
   "metadata": {},
   "source": [
    "## Limitations\n",
    "\n",
    "### Significance\n",
    "\n",
    "It's hard to rigorously determine whether or not a correlation is significant, especially when, as here, the variables are not normally distributed. Their correlation coefficient is close to 1, so it's pretty safe to say that the two stock prices are correlated over the time period we use, but is this indicative of future correlation? \n",
    "\n",
    "One fundamental problem is that it is easy to datamine correlations by picking the right time period. To avoid this, one should compute the correlation of two quantities over many historical time periods and examine the distibution of the correlation coefficient.\n",
    "\n",
    "As an example, remember that the correlation of AAPL and MSFT from 2013-01-01 to 2015-01-01 was 0.92. Let's take the rolling 60 day correlation between the two to see how that varies."
   ]
  },
  {
   "cell_type": "code",
   "execution_count": 26,
   "metadata": {
    "jupyter": {
     "outputs_hidden": false
    }
   },
   "outputs": [
    {
     "data": {
      "text/plain": [
       "Text(0, 0.5, '60-minutes Rolling Correlation')"
      ]
     },
     "execution_count": 26,
     "metadata": {},
     "output_type": "execute_result"
    },
    {
     "data": {
      "image/png": "[encoded data removed]",
      "text/plain": [
       "<Figure size 432x288 with 1 Axes>"
      ]
     },
     "metadata": {
      "needs_background": "light"
     },
     "output_type": "display_data"
    }
   ],
   "source": [
    "rolling_correlation = data.close['BTCUSDT'].rolling(2000).corr(data.close['BTCUSDT'])\n",
    "ax = rolling_correlation.plot()\n",
    "ax.set_xlabel('minutes')\n",
    "ax.set_ylabel('60-minutes Rolling Correlation')"
   ]
  },
  {
   "cell_type": "markdown",
   "metadata": {},
   "source": [
    "### Non-Linear Relationships\n",
    "\n",
    "The correlation coefficient can be useful for examining the strength of the relationship between two variables. However, it's important to remember that two variables may be associated in different, predictable ways which this analysis would not pick up. For instance, one variable might precisely follow the behavior of a second, but with a delay. There are techniques for dealing with this lagged correlation. Alternatively, a variable may be related to the rate of change of another. Neither of these relationships are linear, but can be very useful if detected.\n",
    "\n",
    "Additionally, the correlation coefficient can be very sensitive to outliers. This means that including or excluding even a couple of data points can alter your result, and it is not always clear whether these points contain information or are simply noise.\n",
    "\n",
    "As an example, let's make the noise distribution poisson rather than normal and see what happens."
   ]
  },
  {
   "cell_type": "code",
   "execution_count": 27,
   "metadata": {
    "jupyter": {
     "outputs_hidden": false
    }
   },
   "outputs": [
    {
     "data": {
      "text/plain": [
       "0.31967444924249483"
      ]
     },
     "execution_count": 27,
     "metadata": {},
     "output_type": "execute_result"
    },
    {
     "data": {
      "image/png": "[encoded data removed]",
      "text/plain": [
       "<Figure size 432x288 with 1 Axes>"
      ]
     },
     "metadata": {
      "needs_background": "light"
     },
     "output_type": "display_data"
    }
   ],
   "source": [
    "X = np.random.rand(100)\n",
    "Y = X + np.random.poisson(size=100)\n",
    "\n",
    "plt.scatter(X, Y)\n",
    "\n",
    "np.corrcoef(X, Y)[0, 1]"
   ]
  },
  {
   "cell_type": "markdown",
   "metadata": {},
   "source": [
    "In conclusion, correlation is a powerful technique, but as always in statistics, one should be careful not to interpret results where there are none."
   ]
  },
  {
   "cell_type": "markdown",
   "metadata": {},
   "source": [
    "---\n",
    "\n",
    "**Next Lecture:** [Instability of Estimates](Lecture10-Instability-of-Estimates.ipynb) \n",
    "\n",
    "[Back to Introduction](Introduction.ipynb) "
   ]
  },
  {
   "cell_type": "markdown",
   "metadata": {},
   "source": [
    "---\n",
    "\n",
    "*This presentation is for informational purposes only and does not constitute an offer to sell, a solicitation to buy, or a recommendation for any security; nor does it constitute an offer to provide investment advisory or other services by Quantopian, Inc. (\"Quantopian\") or QuantRocket LLC (\"QuantRocket\"). Nothing contained herein constitutes investment advice or offers any opinion with respect to the suitability of any security, and any views expressed herein should not be taken as advice to buy, sell, or hold any security or as an endorsement of any security or company.  In preparing the information contained herein, neither Quantopian nor QuantRocket has taken into account the investment needs, objectives, and financial circumstances of any particular investor. Any views expressed and data illustrated herein were prepared based upon information believed to be reliable at the time of publication. Neither Quantopian nor QuantRocket makes any guarantees as to their accuracy or completeness. All information is subject to change and may quickly become unreliable for various reasons, including changes in market conditions or economic circumstances.*"
   ]
  }
 ],
 "metadata": {
  "kernelspec": {
   "display_name": "Python 3 (ipykernel)",
   "language": "python",
   "name": "python3"
  },
  "language_info": {
   "codemirror_mode": {
    "name": "ipython",
    "version": 3
   },
   "file_extension": ".py",
   "mimetype": "text/x-python",
   "name": "python",
   "nbconvert_exporter": "python",
   "pygments_lexer": "ipython3",
   "version": "3.9.13"
  }
 },
 "nbformat": 4,
 "nbformat_minor": 4
}
